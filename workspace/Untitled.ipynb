{
 "cells": [
  {
   "cell_type": "code",
   "execution_count": 1,
   "id": "08da12f5-d411-45c3-879d-8b8305aaa047",
   "metadata": {},
   "outputs": [
    {
     "name": "stdout",
     "output_type": "stream",
     "text": [
      "/bin/bash: line 1: pytimeloop.timeloopfe: command not found\n"
     ]
    }
   ],
   "source": [
    "!pytimeloop.timeloopfe /home/workspace/example_designs/comp_comp/compound_comp_div.yaml /home/workspace/example_designs/example_designs/kalabhya_custom_div/arch.yaml /home/workspace/example_designs/layer_shapes/kalabhya_attention/6_division.yaml"
   ]
  },
  {
   "cell_type": "code",
   "execution_count": 49,
   "id": "3bd24bf1-572f-474b-bb73-937d1778fbc9",
   "metadata": {},
   "outputs": [],
   "source": [
    "!cd /home/workspace/.config/accelergy"
   ]
  },
  {
   "cell_type": "code",
   "execution_count": 50,
   "id": "f7193704-ab00-4b61-9e28-6c0e475c8784",
   "metadata": {},
   "outputs": [
    {
     "name": "stdout",
     "output_type": "stream",
     "text": [
      "/home/workspace\n"
     ]
    }
   ],
   "source": [
    "!pwd"
   ]
  },
  {
   "cell_type": "code",
   "execution_count": 49,
   "id": "12011430-7c6c-41fb-8553-9f5888e3ae83",
   "metadata": {},
   "outputs": [],
   "source": [
    "!cd /home/workspace/.config/accelergy"
   ]
  },
  {
   "cell_type": "code",
   "execution_count": 45,
   "id": "2e45a9a4-46ff-406b-b63b-70dbb69696c8",
   "metadata": {},
   "outputs": [
    {
     "name": "stdout",
     "output_type": "stream",
     "text": [
      "usage: run_example_designs.py [-h] [--clear-outputs]\n",
      "                              [--architecture ARCHITECTURE]\n",
      "                              [--generate-ref-outputs] [--problem PROBLEM]\n",
      "                              [--n_jobs N_JOBS] [--remove-sparse-opts]\n",
      "\n",
      "options:\n",
      "  -h, --help            show this help message and exit\n",
      "  --clear-outputs       Clear all generated outputs\n",
      "  --architecture ARCHITECTURE\n",
      "                        Architecture to run in the example_designs directory.\n",
      "                        If 'all' is given, all architectures will be run.\n",
      "  --generate-ref-outputs\n",
      "                        Generate reference outputs instead of outputs\n",
      "  --problem PROBLEM     Problem to run in the layer_shapes directory. If a\n",
      "                        directory is specified, all problems in the directory\n",
      "                        will be run. If not specified, the default problem\n",
      "                        will be run.\n",
      "  --n_jobs N_JOBS       Number of jobs to run in parallel\n",
      "  --remove-sparse-opts  Remove sparse optimizations\n"
     ]
    }
   ],
   "source": [
    "!python3 example_designs/run_example_designs.py --help"
   ]
  },
  {
   "cell_type": "code",
   "execution_count": 18,
   "id": "0b1f2118-1868-46e2-baf7-8c8b0a353462",
   "metadata": {},
   "outputs": [
    {
     "name": "stdout",
     "output_type": "stream",
     "text": [
      "\n",
      "\n",
      "Running mapper for target kalabhya_custom_div in /home/workspace/example_designs/example_designs/kalabhya_custom_div/outputs/6_division...\n",
      "input file: /home/workspace/example_designs/example_designs/kalabhya_custom_div/outputs/6_division/parsed-processed-input.yaml\n",
      "  _______                __                \n",
      " /_  __(_)___ ___  ___  / /___  ____  ____ \n",
      "  / / / / __ `__ \\/ _ \\/ / __ \\/ __ \\/ __ \\\n",
      " / / / / / / / / /  __/ / /_/ / /_/ / /_/ /\n",
      "/_/ /_/_/ /_/ /_/\\___/_/\\____/\\____/ .___/ \n",
      "                                  /_/      \n",
      "\n",
      "Problem configuration complete.\n",
      "execute:/usr/local/bin/accelergy /home/workspace/example_designs/example_designs/kalabhya_custom_div/outputs/6_division/parsed-processed-input.yaml --oprefix timeloop-mapper. -o ./ > timeloop-mapper.accelergy.log 2>&1\n",
      "Generate Accelergy ERT (energy reference table) to replace internal energy model.\n",
      "Generate Accelergy ART (area reference table) to replace internal area model.\n",
      "Architecture configuration complete.\n",
      "Sparse optimization configuration complete.\n",
      "Using threads = 4\n",
      "Mapper configuration complete.\n",
      "terminate called after throwing an instance of 'std::out_of_range'\n",
      "  what():  vector::_M_range_check: __n (which is 168588400) >= this->size() (which is 4)\n",
      "Aborted (core dumped)\n",
      "Traceback (most recent call last):\n",
      "  File \"/home/workspace/example_designs/run_example_designs.py\", line 104, in <module>\n",
      "    joblib.Parallel(n_jobs=args.n_jobs)(\n",
      "  File \"/usr/local/lib/python3.10/dist-packages/joblib/parallel.py\", line 1918, in __call__\n",
      "    return output if self.return_generator else list(output)\n",
      "  File \"/usr/local/lib/python3.10/dist-packages/joblib/parallel.py\", line 1847, in _get_sequential_output\n",
      "    res = func(*args, **kwargs)\n",
      "  File \"/home/workspace/example_designs/run_example_designs.py\", line 60, in run_mapper\n",
      "    tl.call_mapper(spec, output_dir=output_dir, dump_intermediate_to=output_dir)\n",
      "  File \"/usr/local/lib/python3.10/dist-packages/pytimeloop/timeloopfe/common/backend_calls.py\", line 222, in call_mapper\n",
      "    return _parse_output(\n",
      "  File \"/usr/local/lib/python3.10/dist-packages/pytimeloop/timeloopfe/common/backend_calls.py\", line 184, in _parse_output\n",
      "    raise RuntimeError(errmsg)\n",
      "RuntimeError: \n",
      "\n",
      "========================================================================================================================\n",
      "Timeloop mapper failed with return code 134. Please check the output files in /home/workspace/example_designs/example_designs/kalabhya_custom_div/outputs/6_division for more information. To debug, you can edit the file:\n",
      "\t/home/workspace/example_designs/example_designs/kalabhya_custom_div/outputs/6_division/parsed-processed-input.yaml\n",
      "and run \n",
      "\ttl mapper /home/workspace/example_designs/example_designs/kalabhya_custom_div/outputs/6_division/parsed-processed-input.yaml\n",
      "to see the error. If you're running the mapper and Timeloop can't find a vaild mapping, try setting 'diagnostics: true' in the mapper input specification.\n"
     ]
    }
   ],
   "source": [
    "!python3 example_designs/run_example_designs.py --architecture kalabhya_custom_div --problem kalabhya_attention/6_division.yaml"
   ]
  },
  {
   "cell_type": "code",
   "execution_count": null,
   "id": "97746ad2-c928-477d-bc2e-a660361ae222",
   "metadata": {},
   "outputs": [],
   "source": []
  }
 ],
 "metadata": {
  "kernelspec": {
   "display_name": "Python 3 (ipykernel)",
   "language": "python",
   "name": "python3"
  },
  "language_info": {
   "codemirror_mode": {
    "name": "ipython",
    "version": 3
   },
   "file_extension": ".py",
   "mimetype": "text/x-python",
   "name": "python",
   "nbconvert_exporter": "python",
   "pygments_lexer": "ipython3",
   "version": "3.10.12"
  }
 },
 "nbformat": 4,
 "nbformat_minor": 5
}
