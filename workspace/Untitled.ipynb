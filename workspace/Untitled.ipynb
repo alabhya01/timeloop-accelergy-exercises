{
 "cells": [
  {
   "cell_type": "code",
   "execution_count": 1,
   "id": "08da12f5-d411-45c3-879d-8b8305aaa047",
   "metadata": {},
   "outputs": [
    {
     "name": "stdout",
     "output_type": "stream",
     "text": [
      "/bin/bash: line 1: pytimeloop.timeloopfe: command not found\n"
     ]
    }
   ],
   "source": [
    "!pytimeloop.timeloopfe /home/workspace/example_designs/comp_comp/compound_comp_div.yaml /home/workspace/example_designs/example_designs/kalabhya_custom_div/arch.yaml /home/workspace/example_designs/layer_shapes/kalabhya_attention/6_division.yaml"
   ]
  },
  {
   "cell_type": "code",
   "execution_count": 49,
   "id": "3bd24bf1-572f-474b-bb73-937d1778fbc9",
   "metadata": {},
   "outputs": [],
   "source": [
    "!cd /home/workspace/.config/accelergy"
   ]
  },
  {
   "cell_type": "code",
   "execution_count": 50,
   "id": "f7193704-ab00-4b61-9e28-6c0e475c8784",
   "metadata": {},
   "outputs": [
    {
     "name": "stdout",
     "output_type": "stream",
     "text": [
      "/home/workspace\n"
     ]
    }
   ],
   "source": [
    "!pwd"
   ]
  },
  {
   "cell_type": "code",
   "execution_count": 49,
   "id": "12011430-7c6c-41fb-8553-9f5888e3ae83",
   "metadata": {},
   "outputs": [],
   "source": [
    "!cd /home/workspace/.config/accelergy"
   ]
  },
  {
   "cell_type": "code",
   "execution_count": 45,
   "id": "2e45a9a4-46ff-406b-b63b-70dbb69696c8",
   "metadata": {},
   "outputs": [
    {
     "name": "stdout",
     "output_type": "stream",
     "text": [
      "usage: run_example_designs.py [-h] [--clear-outputs]\n",
      "                              [--architecture ARCHITECTURE]\n",
      "                              [--generate-ref-outputs] [--problem PROBLEM]\n",
      "                              [--n_jobs N_JOBS] [--remove-sparse-opts]\n",
      "\n",
      "options:\n",
      "  -h, --help            show this help message and exit\n",
      "  --clear-outputs       Clear all generated outputs\n",
      "  --architecture ARCHITECTURE\n",
      "                        Architecture to run in the example_designs directory.\n",
      "                        If 'all' is given, all architectures will be run.\n",
      "  --generate-ref-outputs\n",
      "                        Generate reference outputs instead of outputs\n",
      "  --problem PROBLEM     Problem to run in the layer_shapes directory. If a\n",
      "                        directory is specified, all problems in the directory\n",
      "                        will be run. If not specified, the default problem\n",
      "                        will be run.\n",
      "  --n_jobs N_JOBS       Number of jobs to run in parallel\n",
      "  --remove-sparse-opts  Remove sparse optimizations\n"
     ]
    }
   ],
   "source": [
    "!python3 example_designs/run_example_designs.py --help"
   ]
  },
  {
   "cell_type": "code",
   "execution_count": 25,
   "id": "0b1f2118-1868-46e2-baf7-8c8b0a353462",
   "metadata": {},
   "outputs": [
    {
     "name": "stdout",
     "output_type": "stream",
     "text": [
      "\n",
      "\n",
      "Running mapper for target kalabhya_softmax in /home/workspace/example_designs/example_designs/kalabhya_softmax/outputs/4_Softmax...\n",
      "input file: /home/workspace/example_designs/example_designs/kalabhya_softmax/outputs/4_Softmax/parsed-processed-input.yaml\n",
      "  _______                __                \n",
      " /_  __(_)___ ___  ___  / /___  ____  ____ \n",
      "  / / / / __ `__ \\/ _ \\/ / __ \\/ __ \\/ __ \\\n",
      " / / / / / / / / /  __/ / /_/ / /_/ / /_/ /\n",
      "/_/ /_/_/ /_/ /_/\\___/_/\\____/\\____/ .___/ \n",
      "                                  /_/      \n",
      "\n",
      "Problem configuration complete.\n",
      "execute:/usr/local/bin/accelergy /home/workspace/example_designs/example_designs/kalabhya_softmax/outputs/4_Softmax/parsed-processed-input.yaml --oprefix timeloop-mapper. -o ./ > timeloop-mapper.accelergy.log 2>&1\n",
      "Generate Accelergy ERT (energy reference table) to replace internal energy model.\n",
      "Generate Accelergy ART (area reference table) to replace internal area model.\n",
      "Architecture configuration complete.\n",
      "Sparse optimization configuration complete.\n",
      "Using threads = 4\n",
      "Mapper configuration complete.\n",
      "Initializing Index Factorization subspace.\n",
      "  Factorization options along problem dimension B = 21\n",
      "  Factorization options along problem dimension N = 56\n",
      "Mapspace Dimension [IndexFactorization] Size: 1176\n",
      "Mapspace Dimension [LoopPermutation] Size: 32\n",
      "Mapspace Dimension [Spatial] Size: 1\n",
      "Mapspace Dimension [DatatypeBypass] Size: 1\n",
      "Mapspace split! Per-split Mapping Dimension [IndexFactorization] Size: 294 Residue: 0\n",
      "Mapspace construction complete.\n",
      "Search configuration complete.\n",
      "Start Parsering Layout\n",
      "No Layout specified, so using bandwidth based modeling\n",
      "[  0] Utilization = 1.00 | pJ/Compute =  260.459 | L6[IO] N2 - L5[] B4 N4 - L4[] N1 - L3[] N1 N32Y B32X - L2[I] N1 - L1[] N1 - L0[O] N1  | Cycles = 32\n",
      "[  1] Utilization = 1.00 | pJ/Compute =  260.459 | L6[IO] B2 N2 - L5[] N4 - L4[] B2 - L3[] N1 N32Y B32X - L2[I] N1 - L1[] N1 - L0[O] N1  | Cycles = 32\n",
      "[  2] Utilization = 1.00 | pJ/Compute =  260.459 | L6[IO] B2 N2 - L5[] B2 N4 - L4[] N1 - L3[] N1 N32Y B32X - L2[I] N1 - L1[] N1 - L0[O] N1  | Cycles = 32\n",
      "[  3] Utilization = 1.00 | pJ/Compute =  260.459 | L6[IO] N2 - L5[] B2 N2 - L4[] B2 N2 - L3[] N1 N32Y B32X - L2[I] N1 - L1[] N1 - L0[O] N1  | Cycles = 32\n",
      "[  0] STATEMENT: 100 suboptimal mappings found since the last upgrade, terminating search.\n",
      "[  1] STATEMENT: 100 suboptimal mappings found since the last upgrade, terminating search.\n",
      "[  2] STATEMENT: 100 suboptimal mappings found since the last upgrade, terminating search.\n",
      "[  3] STATEMENT: 100 suboptimal mappings found since the last upgrade, terminating search.\n",
      "\n",
      "\n",
      "Summary stats for best mapping found by mapper:\n",
      "  Utilization = 1.00 | pJ/Compute =  260.459 | Cycles = 32\n"
     ]
    }
   ],
   "source": [
    "!python3 example_designs/run_example_designs.py --architecture kalabhya_softmax --problem kalabhya_attention/4_Softmax.yaml"
   ]
  },
  {
   "cell_type": "code",
   "execution_count": null,
   "id": "97746ad2-c928-477d-bc2e-a660361ae222",
   "metadata": {},
   "outputs": [],
   "source": []
  }
 ],
 "metadata": {
  "kernelspec": {
   "display_name": "Python 3 (ipykernel)",
   "language": "python",
   "name": "python3"
  },
  "language_info": {
   "codemirror_mode": {
    "name": "ipython",
    "version": 3
   },
   "file_extension": ".py",
   "mimetype": "text/x-python",
   "name": "python",
   "nbconvert_exporter": "python",
   "pygments_lexer": "ipython3",
   "version": "3.10.12"
  }
 },
 "nbformat": 4,
 "nbformat_minor": 5
}
